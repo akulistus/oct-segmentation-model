{
 "cells": [
  {
   "cell_type": "code",
   "execution_count": null,
   "metadata": {},
   "outputs": [],
   "source": [
    "from ultralytics import YOLO\n",
    "import matplotlib.pyplot as plt"
   ]
  },
  {
   "cell_type": "code",
   "execution_count": null,
   "metadata": {},
   "outputs": [],
   "source": [
    "model = YOLO(\"./yolo11m-seg.pt\")"
   ]
  },
  {
   "cell_type": "code",
   "execution_count": null,
   "metadata": {},
   "outputs": [],
   "source": [
    "results = model.train(data=\"./YOLO-style-annotations/data.yaml\", epochs=250, batch=8, patience=0, lr0=0.001, lrf=0.001, imgsz=1280)"
   ]
  },
  {
   "cell_type": "code",
   "execution_count": null,
   "metadata": {},
   "outputs": [],
   "source": [
    "model = YOLO(\"../runs/segment/train21/weights/best.pt\")\n",
    "new_res = model.predict(\"F:\\\\Diploma\\\\for_annotation\\\\DURSEN\\\\DRUSEN-163081-1.jpeg\", conf=0.3)\n",
    "for_plot = new_res[0].plot(boxes=False)\n",
    "plt.imsave(\"test.jpeg\",for_plot)"
   ]
  }
 ],
 "metadata": {
  "kernelspec": {
   "display_name": ".venv",
   "language": "python",
   "name": "python3"
  },
  "language_info": {
   "codemirror_mode": {
    "name": "ipython",
    "version": 3
   },
   "file_extension": ".py",
   "mimetype": "text/x-python",
   "name": "python",
   "nbconvert_exporter": "python",
   "pygments_lexer": "ipython3",
   "version": "3.13.0"
  }
 },
 "nbformat": 4,
 "nbformat_minor": 2
}
